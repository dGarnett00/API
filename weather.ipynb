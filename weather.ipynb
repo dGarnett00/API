{
 "cells": [
  {
   "cell_type": "code",
   "execution_count": 1,
   "id": "83166c02",
   "metadata": {},
   "outputs": [],
   "source": [
    "baseurl = \"https://www.weatherapi.com/docs/#\"\n",
    "Garnett_key = \"e6fd1e45ad5c43c083b213559250309\"\n"
   ]
  },
  {
   "cell_type": "code",
   "execution_count": 28,
   "id": "ded4baf5",
   "metadata": {},
   "outputs": [],
   "source": [
    "import requests\n",
    "import pandas as pd "
   ]
  },
  {
   "cell_type": "code",
   "execution_count": 9,
   "id": "33c4170d",
   "metadata": {},
   "outputs": [],
   "source": [
    "city = \"louisville\"\n",
    "baseurl = f\"http://api.weatherapi.com/v1/current.json?key={Garnett_key}&q={city}\"\n",
    "response = requests.get(baseurl)\n"
   ]
  },
  {
   "cell_type": "code",
   "execution_count": 4,
   "id": "61976ba7",
   "metadata": {},
   "outputs": [
    {
     "data": {
      "text/plain": [
       "200"
      ]
     },
     "execution_count": 4,
     "metadata": {},
     "output_type": "execute_result"
    }
   ],
   "source": [
    "response.status_code"
   ]
  },
  {
   "cell_type": "code",
   "execution_count": 5,
   "id": "e0c48763",
   "metadata": {},
   "outputs": [
    {
     "data": {
      "text/plain": [
       "{'location': {'name': 'London',\n",
       "  'region': 'City of London, Greater London',\n",
       "  'country': 'United Kingdom',\n",
       "  'lat': 51.5171,\n",
       "  'lon': -0.1062,\n",
       "  'tz_id': 'Europe/London',\n",
       "  'localtime_epoch': 1757336335,\n",
       "  'localtime': '2025-09-08 13:58'},\n",
       " 'current': {'last_updated_epoch': 1757335500,\n",
       "  'last_updated': '2025-09-08 13:45',\n",
       "  'temp_c': 20.1,\n",
       "  'temp_f': 68.2,\n",
       "  'is_day': 1,\n",
       "  'condition': {'text': 'Moderate rain',\n",
       "   'icon': '//cdn.weatherapi.com/weather/64x64/day/302.png',\n",
       "   'code': 1189},\n",
       "  'wind_mph': 8.5,\n",
       "  'wind_kph': 13.7,\n",
       "  'wind_degree': 247,\n",
       "  'wind_dir': 'WSW',\n",
       "  'pressure_mb': 1016.0,\n",
       "  'pressure_in': 30.0,\n",
       "  'precip_mm': 0.0,\n",
       "  'precip_in': 0.0,\n",
       "  'humidity': 46,\n",
       "  'cloud': 25,\n",
       "  'feelslike_c': 20.1,\n",
       "  'feelslike_f': 68.2,\n",
       "  'windchill_c': 21.3,\n",
       "  'windchill_f': 70.4,\n",
       "  'heatindex_c': 23.6,\n",
       "  'heatindex_f': 74.4,\n",
       "  'dewpoint_c': 5.5,\n",
       "  'dewpoint_f': 41.9,\n",
       "  'vis_km': 10.0,\n",
       "  'vis_miles': 6.0,\n",
       "  'uv': 4.6,\n",
       "  'gust_mph': 9.8,\n",
       "  'gust_kph': 15.7,\n",
       "  'short_rad': 443.79,\n",
       "  'diff_rad': 87.65,\n",
       "  'dni': 528.01,\n",
       "  'gti': 22.27}}"
      ]
     },
     "execution_count": 5,
     "metadata": {},
     "output_type": "execute_result"
    }
   ],
   "source": [
    "data = response.json()\n",
    "data "
   ]
  },
  {
   "cell_type": "code",
   "execution_count": 6,
   "id": "221fd477",
   "metadata": {},
   "outputs": [],
   "source": [
    "current = data['current']\n",
    "location = data['location'] \n",
    "temp_f = current['temp_f']\n",
    "wind_mph = current['wind_mph']\n",
    "humidity = current['humidity']"
   ]
  },
  {
   "cell_type": "code",
   "execution_count": 10,
   "id": "cc3a6a5b",
   "metadata": {},
   "outputs": [
    {
     "data": {
      "text/plain": [
       "(68.2, 46)"
      ]
     },
     "execution_count": 10,
     "metadata": {},
     "output_type": "execute_result"
    }
   ],
   "source": [
    "temp_f, humidity"
   ]
  },
  {
   "cell_type": "code",
   "execution_count": 13,
   "id": "55751343",
   "metadata": {},
   "outputs": [],
   "source": [
    "def get_weather(city):\n",
    "    url = f\"http://api.weatherapi.com/v1/current.json?key={Garnett_key}&q={city}\"\n",
    "    response = requests.get(url)\n",
    "    if response.status_code == 200:\n",
    "        data = response.json()\n",
    "        current = data['current']\n",
    "        location = data['location']\n",
    "        temp_f = current['temp_f']\n",
    "        wind_mph = current['wind_mph']\n",
    "        humidity = current['humidity']\n",
    "\n",
    "        print(f\"Weather for {location['name']}, {location['region']}\")\n",
    "        print(f\"Temperature: {current['temp_f']} F / {current['temp_c']} C\")\n",
    "        print(f\"Condition: {current['condition']['text']}\")\n",
    "        print(f\"Humidity: {current['humidity']}%\")\n",
    "        print(f\"Wind Speed: {current['wind_mph']} mph\")\n",
    "        \n",
    "    else:\n",
    "        print(f\"Error fetching data for {city}: {response.status_code}\")"
   ]
  },
  {
   "cell_type": "code",
   "execution_count": 14,
   "id": "c1e7f255",
   "metadata": {},
   "outputs": [
    {
     "name": "stdout",
     "output_type": "stream",
     "text": [
      "Weather for Louisville, Kentucky\n",
      "Temperature: 48.0 F / 8.9 C\n",
      "Condition: Sunny\n",
      "Humidity: 89%\n",
      "Wind Speed: 4.7 mph\n"
     ]
    }
   ],
   "source": [
    "get_weather(\"louisville\")"
   ]
  },
  {
   "cell_type": "code",
   "execution_count": 17,
   "id": "b3c58955",
   "metadata": {},
   "outputs": [
    {
     "name": "stdout",
     "output_type": "stream",
     "text": [
      "Weather for Lexington-Fayette, Kentucky\n",
      "Temperature: 54.0 F / 12.2 C\n",
      "Condition: Sunny\n",
      "Humidity: 71%\n",
      "Wind Speed: 8.3 mph\n"
     ]
    }
   ],
   "source": [
    "get_weather(\"Lexington\")"
   ]
  },
  {
   "cell_type": "code",
   "execution_count": 22,
   "id": "485d49c1",
   "metadata": {},
   "outputs": [],
   "source": [
    "cities = [\"Kapaa\", \"Honolulu\", \"Hilo\", \"Kailua-Kona\", \"Lihue\"]\n",
    "weather_data = []  \n",
    "\n",
    "for city in cities:\n",
    "    url = f\"http://api.weatherapi.com/v1/current.json?key={Garnett_key}&q={city}\"\n",
    "    response = requests.get(url)\n",
    "\n",
    "    if response.status_code == 200:\n",
    "        data = response.json()\n",
    "        weather_data.append({\n",
    "\n",
    "            \"City\": data['location']['name'],\n",
    "            \"Temperature_F\": data['current']['temp_f'], \n",
    "            \"Condition\": data['current']['condition']['text'],\n",
    "            \"Humidity\": data['current']['humidity'],\n",
    "            \"Wind speed\": data['current']['wind_mph']\n",
    "        })  \n",
    "    else: \n",
    "        print(f\"Error fetching data\")\n"
   ]
  },
  {
   "cell_type": "code",
   "execution_count": 23,
   "id": "cb07281f",
   "metadata": {},
   "outputs": [
    {
     "data": {
      "text/plain": [
       "[{'City': 'Kapaa',\n",
       "  'Temperature_F': 73.8,\n",
       "  'Condition': 'Overcast',\n",
       "  'Humidity': 78,\n",
       "  'Wind speed': 3.1},\n",
       " {'City': 'Honolulu',\n",
       "  'Temperature_F': 75.4,\n",
       "  'Condition': 'Overcast',\n",
       "  'Humidity': 89,\n",
       "  'Wind speed': 6.5},\n",
       " {'City': 'Hilo',\n",
       "  'Temperature_F': 70.0,\n",
       "  'Condition': 'Partly Cloudy',\n",
       "  'Humidity': 69,\n",
       "  'Wind speed': 4.5},\n",
       " {'City': 'Kailua Kona',\n",
       "  'Temperature_F': 77.2,\n",
       "  'Condition': 'Patchy rain nearby',\n",
       "  'Humidity': 74,\n",
       "  'Wind speed': 2.2},\n",
       " {'City': 'Lihue',\n",
       "  'Temperature_F': 73.8,\n",
       "  'Condition': 'Overcast',\n",
       "  'Humidity': 78,\n",
       "  'Wind speed': 3.1}]"
      ]
     },
     "execution_count": 23,
     "metadata": {},
     "output_type": "execute_result"
    }
   ],
   "source": [
    "weather_data"
   ]
  },
  {
   "cell_type": "code",
   "execution_count": 24,
   "id": "0f66f3fb",
   "metadata": {},
   "outputs": [
    {
     "data": {
      "application/vnd.microsoft.datawrangler.viewer.v0+json": {
       "columns": [
        {
         "name": "index",
         "rawType": "int64",
         "type": "integer"
        },
        {
         "name": "City",
         "rawType": "object",
         "type": "string"
        },
        {
         "name": "Temperature_F",
         "rawType": "float64",
         "type": "float"
        },
        {
         "name": "Condition",
         "rawType": "object",
         "type": "string"
        },
        {
         "name": "Humidity",
         "rawType": "int64",
         "type": "integer"
        },
        {
         "name": "Wind speed",
         "rawType": "float64",
         "type": "float"
        }
       ],
       "ref": "acb3fb54-dcdb-4678-9271-2a5f3be65640",
       "rows": [
        [
         "0",
         "Kapaa",
         "73.8",
         "Overcast",
         "78",
         "3.1"
        ],
        [
         "1",
         "Honolulu",
         "75.4",
         "Overcast",
         "89",
         "6.5"
        ],
        [
         "2",
         "Hilo",
         "70.0",
         "Partly Cloudy",
         "69",
         "4.5"
        ],
        [
         "3",
         "Kailua Kona",
         "77.2",
         "Patchy rain nearby",
         "74",
         "2.2"
        ],
        [
         "4",
         "Lihue",
         "73.8",
         "Overcast",
         "78",
         "3.1"
        ]
       ],
       "shape": {
        "columns": 5,
        "rows": 5
       }
      },
      "text/html": [
       "<div>\n",
       "<style scoped>\n",
       "    .dataframe tbody tr th:only-of-type {\n",
       "        vertical-align: middle;\n",
       "    }\n",
       "\n",
       "    .dataframe tbody tr th {\n",
       "        vertical-align: top;\n",
       "    }\n",
       "\n",
       "    .dataframe thead th {\n",
       "        text-align: right;\n",
       "    }\n",
       "</style>\n",
       "<table border=\"1\" class=\"dataframe\">\n",
       "  <thead>\n",
       "    <tr style=\"text-align: right;\">\n",
       "      <th></th>\n",
       "      <th>City</th>\n",
       "      <th>Temperature_F</th>\n",
       "      <th>Condition</th>\n",
       "      <th>Humidity</th>\n",
       "      <th>Wind speed</th>\n",
       "    </tr>\n",
       "  </thead>\n",
       "  <tbody>\n",
       "    <tr>\n",
       "      <th>0</th>\n",
       "      <td>Kapaa</td>\n",
       "      <td>73.8</td>\n",
       "      <td>Overcast</td>\n",
       "      <td>78</td>\n",
       "      <td>3.1</td>\n",
       "    </tr>\n",
       "    <tr>\n",
       "      <th>1</th>\n",
       "      <td>Honolulu</td>\n",
       "      <td>75.4</td>\n",
       "      <td>Overcast</td>\n",
       "      <td>89</td>\n",
       "      <td>6.5</td>\n",
       "    </tr>\n",
       "    <tr>\n",
       "      <th>2</th>\n",
       "      <td>Hilo</td>\n",
       "      <td>70.0</td>\n",
       "      <td>Partly Cloudy</td>\n",
       "      <td>69</td>\n",
       "      <td>4.5</td>\n",
       "    </tr>\n",
       "    <tr>\n",
       "      <th>3</th>\n",
       "      <td>Kailua Kona</td>\n",
       "      <td>77.2</td>\n",
       "      <td>Patchy rain nearby</td>\n",
       "      <td>74</td>\n",
       "      <td>2.2</td>\n",
       "    </tr>\n",
       "    <tr>\n",
       "      <th>4</th>\n",
       "      <td>Lihue</td>\n",
       "      <td>73.8</td>\n",
       "      <td>Overcast</td>\n",
       "      <td>78</td>\n",
       "      <td>3.1</td>\n",
       "    </tr>\n",
       "  </tbody>\n",
       "</table>\n",
       "</div>"
      ],
      "text/plain": [
       "          City  Temperature_F           Condition  Humidity  Wind speed\n",
       "0        Kapaa           73.8            Overcast        78         3.1\n",
       "1     Honolulu           75.4            Overcast        89         6.5\n",
       "2         Hilo           70.0       Partly Cloudy        69         4.5\n",
       "3  Kailua Kona           77.2  Patchy rain nearby        74         2.2\n",
       "4        Lihue           73.8            Overcast        78         3.1"
      ]
     },
     "execution_count": 24,
     "metadata": {},
     "output_type": "execute_result"
    }
   ],
   "source": [
    "weather_df = pd.DataFrame(weather_data)\n",
    "weather_df"
   ]
  },
  {
   "cell_type": "code",
   "execution_count": 26,
   "id": "1fe5183f",
   "metadata": {},
   "outputs": [],
   "source": [
    "weather_df.to_csv(\"sample_weather_data.csv\", index=False)"
   ]
  },
  {
   "cell_type": "code",
   "execution_count": 29,
   "id": "a34ceb55",
   "metadata": {},
   "outputs": [],
   "source": [
    "import requests\n",
    "import pandas as pd \n",
    "from datetime import datetime"
   ]
  },
  {
   "cell_type": "code",
   "execution_count": 32,
   "id": "3c1e11d5",
   "metadata": {},
   "outputs": [
    {
     "data": {
      "text/plain": [
       "200"
      ]
     },
     "execution_count": 32,
     "metadata": {},
     "output_type": "execute_result"
    }
   ],
   "source": [
    "api_key = Garnett_key\n",
    "baseurl = f\"http://api.weatherapi.com/v1/current.json?key={api_key}&q={{city}}\"\n",
    "response.status_code"
   ]
  },
  {
   "cell_type": "code",
   "execution_count": 34,
   "id": "7e3d5dd1",
   "metadata": {},
   "outputs": [
    {
     "data": {
      "text/plain": [
       "{'last_updated_epoch': 1757337300,\n",
       " 'last_updated': '2025-09-08 03:15',\n",
       " 'temp_c': 23.2,\n",
       " 'temp_f': 73.8,\n",
       " 'is_day': 0,\n",
       " 'condition': {'text': 'Overcast',\n",
       "  'icon': '//cdn.weatherapi.com/weather/64x64/night/122.png',\n",
       "  'code': 1009},\n",
       " 'wind_mph': 3.1,\n",
       " 'wind_kph': 5.0,\n",
       " 'wind_degree': 120,\n",
       " 'wind_dir': 'ESE',\n",
       " 'pressure_mb': 1015.0,\n",
       " 'pressure_in': 29.96,\n",
       " 'precip_mm': 0.0,\n",
       " 'precip_in': 0.0,\n",
       " 'humidity': 78,\n",
       " 'cloud': 100,\n",
       " 'feelslike_c': 25.2,\n",
       " 'feelslike_f': 77.3,\n",
       " 'windchill_c': 24.8,\n",
       " 'windchill_f': 76.7,\n",
       " 'heatindex_c': 26.6,\n",
       " 'heatindex_f': 79.9,\n",
       " 'dewpoint_c': 20.0,\n",
       " 'dewpoint_f': 68.0,\n",
       " 'vis_km': 16.0,\n",
       " 'vis_miles': 9.0,\n",
       " 'uv': 0.0,\n",
       " 'gust_mph': 4.2,\n",
       " 'gust_kph': 6.7,\n",
       " 'short_rad': 0,\n",
       " 'diff_rad': 0,\n",
       " 'dni': 0,\n",
       " 'gti': 0}"
      ]
     },
     "execution_count": 34,
     "metadata": {},
     "output_type": "execute_result"
    }
   ],
   "source": [
    "data = response.json()\n",
    "data['current']"
   ]
  },
  {
   "cell_type": "code",
   "execution_count": 35,
   "id": "c449ff79",
   "metadata": {},
   "outputs": [
    {
     "data": {
      "text/plain": [
       "200"
      ]
     },
     "execution_count": 35,
     "metadata": {},
     "output_type": "execute_result"
    }
   ],
   "source": [
    "forecast_url = f\"{baseurl}forecast.json?key={api_key}&q={{city}}&days=3\"\n",
    "forecast_response = requests.get(forecast_url)\n",
    "forecast_response.status_code"
   ]
  },
  {
   "cell_type": "code",
   "execution_count": 42,
   "id": "d4f35070",
   "metadata": {},
   "outputs": [],
   "source": [
    "forecast_data = forecast_response.json()\n",
    "forecast = forecast_data['forecast']['forecastday']\n"
   ]
  },
  {
   "cell_type": "code",
   "execution_count": 44,
   "id": "e421cc71",
   "metadata": {},
   "outputs": [],
   "source": [
    "forecast_3_days_summary = []\n",
    "for day in forecast:\n",
    "    forecast_3_days_summary.append(f\"{day['date']}: High {day['day']['maxtemp_f']} F / {day['day']['condition']['text']}\")"
   ]
  },
  {
   "cell_type": "code",
   "execution_count": 45,
   "id": "2eed27db",
   "metadata": {},
   "outputs": [
    {
     "data": {
      "text/plain": [
       "['2025-09-08: High 80.4 F / Patchy rain nearby',\n",
       " '2025-09-09: High 81.3 F / Moderate rain',\n",
       " '2025-09-10: High 80.8 F / Patchy rain nearby']"
      ]
     },
     "execution_count": 45,
     "metadata": {},
     "output_type": "execute_result"
    }
   ],
   "source": [
    "forecast_3_days_summary"
   ]
  },
  {
   "cell_type": "code",
   "execution_count": 47,
   "id": "7bd5a843",
   "metadata": {},
   "outputs": [
    {
     "data": {
      "text/plain": [
       "['Monday, September 08: High 80.4 F / 76.4 F - Patchy rain nearby',\n",
       " 'Tuesday, September 09: High 81.3 F / 75.7 F - Moderate rain',\n",
       " 'Wednesday, September 10: High 80.8 F / 75.6 F - Patchy rain nearby']"
      ]
     },
     "execution_count": 47,
     "metadata": {},
     "output_type": "execute_result"
    }
   ],
   "source": [
    "forecast_3_days_summary = []\n",
    "for day in forecast:\n",
    "   date_obj = datetime.strptime(day['date'], '%Y-%m-%d')\n",
    "   formatted_date = date_obj.strftime('%A, %B %d')\n",
    "   forecast_3_days_summary.append(f\"{formatted_date}: High {day['day']['maxtemp_f']} F / {day['day']['mintemp_f']} F - {day['day']['condition']['text']}\")\n",
    "\n",
    "forecast_3_days_summary"
   ]
  },
  {
   "cell_type": "code",
   "execution_count": 48,
   "id": "ed098165",
   "metadata": {},
   "outputs": [],
   "source": [
    "today = pd.Timestamp.now().strftime('%A, %B %d, %Y')\n",
    "astronomy_url = f\"{baseurl}astronomy.json?key={api_key}%q={city}&dt={today}\"\n"
   ]
  },
  {
   "cell_type": "code",
   "execution_count": null,
   "id": "d05b141d",
   "metadata": {},
   "outputs": [
    {
     "name": "stderr",
     "output_type": "stream",
     "text": [
      "C:\\Users\\bug\\AppData\\Local\\Temp\\ipykernel_4488\\379494999.py:29: DeprecationWarning: datetime.datetime.utcnow() is deprecated and scheduled for removal in a future version. Use timezone-aware objects to represent datetimes in UTC: datetime.datetime.now(datetime.UTC).\n",
      "  today = datetime.utcnow().strftime('%Y-%m-%d')\n"
     ]
    },
    {
     "data": {
      "text/plain": [
       "{'city': 'Louisville',\n",
       " 'region': 'Kentucky',\n",
       " 'country': 'United States of America',\n",
       " 'local_time': '2025-09-08 10:09',\n",
       " 'current_temp_f': 55.0,\n",
       " 'condition': 'Sunny',\n",
       " 'humidity': 74,\n",
       " 'wind_mph': 5.1,\n",
       " 'uv_index': 1.9,\n",
       " 'sunrise': '07:19 AM',\n",
       " 'sunset': '08:01 PM',\n",
       " 'moon_phase': 'Waning Gibbous',\n",
       " 'forecast_3_day': [{'date': '2025-09-08',\n",
       "   'high_f': 79.2,\n",
       "   'low_f': 51.6,\n",
       "   'condition': 'Sunny',\n",
       "   'chance_of_rain': 0},\n",
       "  {'date': '2025-09-09',\n",
       "   'high_f': 81.9,\n",
       "   'low_f': 53.8,\n",
       "   'condition': 'Sunny',\n",
       "   'chance_of_rain': 0},\n",
       "  {'date': '2025-09-10',\n",
       "   'high_f': 78.4,\n",
       "   'low_f': 58.6,\n",
       "   'condition': 'Cloudy ',\n",
       "   'chance_of_rain': 0}]}"
      ]
     },
     "execution_count": 49,
     "metadata": {},
     "output_type": "execute_result"
    }
   ],
   "source": [
    "def get_city_date(city, api_key=Garnett_key):\n",
    "    \"\"\"Return a very basic summary dictionary for a city.\n",
    "    Steps:\n",
    "      1. Current weather\n",
    "      2. 3‑day forecast\n",
    "      3. Astronomy (sunrise, sunset, moon phase for today)\n",
    "      4. (Challenge) Include UV index & first day's chance of rain if available\n",
    "    \"\"\"\n",
    "    import requests\n",
    "    from datetime import datetime\n",
    "\n",
    "    base_root = \"http://api.weatherapi.com/v1\"\n",
    "\n",
    "    # Current weather\n",
    "    current_url = f\"{base_root}/current.json?key={api_key}&q={city}\"\n",
    "    cur_resp = requests.get(current_url)\n",
    "    if cur_resp.status_code != 200:\n",
    "        return {\"city\": city, \"error\": f\"current request failed {cur_resp.status_code}\"}\n",
    "    cur_json = cur_resp.json()\n",
    "\n",
    "    # Forecast (3 days)\n",
    "    forecast_url = f\"{base_root}/forecast.json?key={api_key}&q={city}&days=3\"\n",
    "    fc_resp = requests.get(forecast_url)\n",
    "    if fc_resp.status_code != 200:\n",
    "        return {\"city\": city, \"error\": f\"forecast request failed {fc_resp.status_code}\"}\n",
    "    fc_json = fc_resp.json()\n",
    "\n",
    "    # Astronomy for today \n",
    "    today = datetime.utcnow().strftime('%Y-%m-%d')\n",
    "    astro_url = f\"{base_root}/astronomy.json?key={api_key}&q={city}&dt={today}\"\n",
    "    astro_resp = requests.get(astro_url)\n",
    "    astro = {}\n",
    "    if astro_resp.status_code == 200:\n",
    "        astro = astro_resp.json().get('astronomy', {}).get('astro', {})\n",
    "\n",
    "    current = cur_json['current']\n",
    "    location = cur_json['location']\n",
    "    forecast_days = fc_json.get('forecast', {}).get('forecastday', [])\n",
    "\n",
    "    # Build a forecast summary list\n",
    "    forecast_summary = []\n",
    "    for d in forecast_days:\n",
    "        forecast_summary.append({\n",
    "            'date': d.get('date'),\n",
    "            'high_f': d.get('day', {}).get('maxtemp_f'),\n",
    "            'low_f': d.get('day', {}).get('mintemp_f'),\n",
    "            'condition': d.get('day', {}).get('condition', {}).get('text'),\n",
    "            'chance_of_rain': d.get('day', {}).get('daily_chance_of_rain')\n",
    "        })\n",
    "\n",
    "    summary = {\n",
    "        'city': location.get('name'),\n",
    "        'region': location.get('region'),\n",
    "        'country': location.get('country'),\n",
    "        'local_time': location.get('localtime'),\n",
    "        'current_temp_f': current.get('temp_f'),\n",
    "        'condition': current.get('condition', {}).get('text'),\n",
    "        'humidity': current.get('humidity'),\n",
    "        'wind_mph': current.get('wind_mph'),\n",
    "        'uv_index': current.get('uv'),  \n",
    "        'sunrise': astro.get('sunrise'),\n",
    "        'sunset': astro.get('sunset'),\n",
    "        'moon_phase': astro.get('moon_phase'),\n",
    "        'forecast_3_day': forecast_summary\n",
    "    }\n",
    "    return summary\n",
    "\n",
    "\n",
    "get_city_date(\"Louisville\")"
   ]
  },
  {
   "cell_type": "code",
   "execution_count": null,
   "id": "e1e8da4d",
   "metadata": {},
   "outputs": [],
   "source": []
  }
 ],
 "metadata": {
  "kernelspec": {
   "display_name": "base",
   "language": "python",
   "name": "python3"
  },
  "language_info": {
   "codemirror_mode": {
    "name": "ipython",
    "version": 3
   },
   "file_extension": ".py",
   "mimetype": "text/x-python",
   "name": "python",
   "nbconvert_exporter": "python",
   "pygments_lexer": "ipython3",
   "version": "3.13.5"
  }
 },
 "nbformat": 4,
 "nbformat_minor": 5
}
