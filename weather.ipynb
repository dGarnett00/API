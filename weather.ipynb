{
 "cells": [
  {
   "cell_type": "code",
   "execution_count": 5,
   "id": "83166c02",
   "metadata": {},
   "outputs": [],
   "source": [
    "baseurl = \"https://www.weatherapi.com/docs/#\"\n",
    "Garnett_key = \"e6fd1e45ad5c43c083b213559250309\"\n"
   ]
  },
  {
   "cell_type": "code",
   "execution_count": 3,
   "id": "ded4baf5",
   "metadata": {},
   "outputs": [],
   "source": [
    "import requests\n",
    "import pandas as pd "
   ]
  },
  {
   "cell_type": "code",
   "execution_count": null,
   "id": "33c4170d",
   "metadata": {},
   "outputs": [],
   "source": [
    "city = \"louisville\"\n",
    "baseurl = f\"http://api.weatherapi.com/v1/current.json?key={Garnett_key}&q=London\"\n",
    "response = requests.get(baseurl)\n"
   ]
  },
  {
   "cell_type": "code",
   "execution_count": 8,
   "id": "61976ba7",
   "metadata": {},
   "outputs": [
    {
     "data": {
      "text/plain": [
       "200"
      ]
     },
     "execution_count": 8,
     "metadata": {},
     "output_type": "execute_result"
    }
   ],
   "source": [
    "response.status_code"
   ]
  },
  {
   "cell_type": "code",
   "execution_count": 10,
   "id": "e0c48763",
   "metadata": {},
   "outputs": [
    {
     "data": {
      "text/plain": [
       "{'location': {'name': 'London',\n",
       "  'region': 'City of London, Greater London',\n",
       "  'country': 'United Kingdom',\n",
       "  'lat': 51.5171,\n",
       "  'lon': -0.1062,\n",
       "  'tz_id': 'Europe/London',\n",
       "  'localtime_epoch': 1756936598,\n",
       "  'localtime': '2025-09-03 22:56'},\n",
       " 'current': {'last_updated_epoch': 1756935900,\n",
       "  'last_updated': '2025-09-03 22:45',\n",
       "  'temp_c': 15.0,\n",
       "  'temp_f': 59.0,\n",
       "  'is_day': 0,\n",
       "  'condition': {'text': 'Partly Cloudy',\n",
       "   'icon': '//cdn.weatherapi.com/weather/64x64/night/116.png',\n",
       "   'code': 1003},\n",
       "  'wind_mph': 10.3,\n",
       "  'wind_kph': 16.6,\n",
       "  'wind_degree': 238,\n",
       "  'wind_dir': 'WSW',\n",
       "  'pressure_mb': 1001.0,\n",
       "  'pressure_in': 29.56,\n",
       "  'precip_mm': 0.0,\n",
       "  'precip_in': 0.0,\n",
       "  'humidity': 94,\n",
       "  'cloud': 0,\n",
       "  'feelslike_c': 14.0,\n",
       "  'feelslike_f': 57.1,\n",
       "  'windchill_c': 15.5,\n",
       "  'windchill_f': 59.9,\n",
       "  'heatindex_c': 15.5,\n",
       "  'heatindex_f': 59.9,\n",
       "  'dewpoint_c': 12.7,\n",
       "  'dewpoint_f': 54.8,\n",
       "  'vis_km': 10.0,\n",
       "  'vis_miles': 6.0,\n",
       "  'uv': 0.0,\n",
       "  'gust_mph': 15.9,\n",
       "  'gust_kph': 25.6,\n",
       "  'short_rad': 0,\n",
       "  'diff_rad': 0,\n",
       "  'dni': 0,\n",
       "  'gti': 0}}"
      ]
     },
     "execution_count": 10,
     "metadata": {},
     "output_type": "execute_result"
    }
   ],
   "source": [
    "data = response.json()\n",
    "data "
   ]
  },
  {
   "cell_type": "code",
   "execution_count": 11,
   "id": "221fd477",
   "metadata": {},
   "outputs": [],
   "source": [
    "current = data['current']\n",
    "location = data['location'] \n",
    "temp_f = current['temp_f']\n",
    "wind_mph = current['wind_mph']\n",
    "humidity = current['humidity']"
   ]
  },
  {
   "cell_type": "code",
   "execution_count": 12,
   "id": "cc3a6a5b",
   "metadata": {},
   "outputs": [
    {
     "data": {
      "text/plain": [
       "(59.0, 94)"
      ]
     },
     "execution_count": 12,
     "metadata": {},
     "output_type": "execute_result"
    }
   ],
   "source": [
    "temp_f, humidity"
   ]
  },
  {
   "cell_type": "code",
   "execution_count": null,
   "id": "55751343",
   "metadata": {},
   "outputs": [],
   "source": [
    "def get weather(city):\n",
    "    baseurl = f\"http://api.weatherapi.com/v1/current.json?key={Garnett_key}&q={city}\"\n",
    "    response = requests.get(url)\n",
    "    if response.status_code == 200:\n",
    "        data = response.json()\n",
    "        current = data['current']\n",
    "        location = data['location']\n",
    "        temp_f = current['temp_f']\n",
    "        wind_mph = current['wind_mph']\n",
    "        humidity = current['humidity']\n",
    "        \n",
    "        print(f\"Weather for {location}\")"
   ]
  }
 ],
 "metadata": {
  "kernelspec": {
   "display_name": "base",
   "language": "python",
   "name": "python3"
  },
  "language_info": {
   "codemirror_mode": {
    "name": "ipython",
    "version": 3
   },
   "file_extension": ".py",
   "mimetype": "text/x-python",
   "name": "python",
   "nbconvert_exporter": "python",
   "pygments_lexer": "ipython3",
   "version": "3.13.5"
  }
 },
 "nbformat": 4,
 "nbformat_minor": 5
}
